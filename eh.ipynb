{
 "cells": [
  {
   "cell_type": "markdown",
   "metadata": {},
   "source": []
  },
  {
   "cell_type": "code",
   "execution_count": 11,
   "metadata": {},
   "outputs": [
    {
     "name": "stdout",
     "output_type": "stream",
     "text": [
      "[,',T,h,e,y, ,d,e,c,i,d,e,d, ,t,h,a,t, ,t,h,i,n,g, ,c,a,n, ,h,o,p, ,u,p, ,a,n,y, ,n,o,t, ,l,i,k,e, ,t,h,e,m, ,i,n, ,t,h,a,t, ,c,a,s,e,',,, ,', ,o,n, ,t,h,e, ,s,n,e,e,t,c,h,e,s, ,a,n,d, ,a, ,b,u,s, ,t,o, ,c,o,m,e, ,d,o,w,n, ,s,l,u,p,p,s, ,t,h,e, ,t,o,p, ,o,f, ,p,e,a,r,l,s,',],\n",
      "What some are tall, blue fish said the street.\n"
     ]
    }
   ],
   "source": [
    "sentence = \"They decided that thing can hop up any not like them in that case, on the sneetches and a bus to come down slupps the top of pearls, what some are tall, blue fish said the street.\"\n",
    "\n",
    "\n",
    "\n",
    "*a, b = sentence.split(',', sentence.count(',') // 2 + 1)\n",
    "sentence = ','.join(a) + ',\\n' + b.lstrip().capitalize()\n",
    "\n",
    "print(sentence)\n",
    "\n",
    "\n",
    "\n",
    "\n"
   ]
  },
  {
   "cell_type": "code",
   "execution_count": 10,
   "metadata": {},
   "outputs": [
    {
     "name": "stdout",
     "output_type": "stream",
     "text": [
      "[]\n"
     ]
    }
   ],
   "source": [
    "sentence = a\n",
    "sentence = str(sentence)\n",
    "*a, b = sentence.split(',', sentence.count(',') // 2 + 1)\n",
    "sentence = ','.join(a) + ',\\n' + b.lstrip().capitalize()\n",
    "print(a)\n"
   ]
  },
  {
   "cell_type": "code",
   "execution_count": null,
   "metadata": {},
   "outputs": [],
   "source": [
    "# if ',' not in element:\n",
    "    #         # print(element)\n",
    "    #         *c, d = element.split(' ', element.count(' ') // 2 + 1)\n",
    "    #         element = ' '.join(c) + ',\\n' + d.capitalize() + ','\n",
    "    #         # print(d)\n",
    "    #         print(element)\n"
   ]
  },
  {
   "cell_type": "code",
   "execution_count": 84,
   "metadata": {},
   "outputs": [
    {
     "name": "stdout",
     "output_type": "stream",
     "text": [
      "They decided that thing can, hop,\n",
      "Up any not like them in that case\n"
     ]
    }
   ],
   "source": [
    "import re\n",
    "\n",
    "sentence = \"They decided that thing can, hop, up any not like them in that case, on the sneetches and a bus to come down slupps the top of pearls, what some are tall, blue fish said the street.\"\n",
    "# # def too_long(sentence):\n",
    "if len(sentence.split(' ')) > 12:\n",
    "    *a, b = sentence.split(',', sentence.count(',') // 2 + 1)\n",
    "    # print(a)\n",
    "\n",
    "    # dont do this with b, bri\n",
    "    # following a, remember it is still split at commas\n",
    "    a = ','.join(a)\n",
    "    # print(a)\n",
    "    if a.count(' ') > 11:\n",
    "        if \",\" in a:\n",
    "            *c, d = a.split(',', a.count(',') // 2 + 1)\n",
    "            a = \",\".join(c) + ',\\n' + d.lstrip().capitalize()\n",
    "            print(a)\n",
    "        else:\n",
    "            *c, d = a.split(' ', a.count(' ') // 2 + 1)\n",
    "            a = ' '.join(c) + ',\\n' + d.capitalize() + ','\n",
    "            print(a)\n",
    "\n",
    "            # print(d)\n",
    "    #     print(element)\n",
    "        # if anyone of the comma groups have more than qo words\n",
    "        # this is counting the number of spaces between the words. unnecessary, yes. fun, also yes. \n",
    "        # if element.count(' ') > 11:\n",
    "        #     element = element.lstrip().capitalize()\n",
    "        #     # print(element)\n",
    "        #     if ',' not in element:\n",
    "        #         # print(element)\n",
    "        #         *c, d = element.split(' ', element.count(' ') // 2 + 1)\n",
    "        #         element = ' '.join(c) + ',\\n' + d.capitalize() + ','\n",
    "        #         # print(d)\n",
    "        #         print(element)\n",
    "        #     else: \n",
    "        #         *a, b = element.split(',', element.count(',') // 2 + 1)\n",
    "        #         element = ','.join(c) + ',\\n' + d.capitalize()\n",
    "#           \n",
    "#             #     *a, b = element.split(' ', element.count(' ') // 2 + 1)\n",
    "#                 print(\"bye\")\n",
    "                # sentence = ' '.join(a) + ',\\n' + b.lstrip().capitalize()\n",
    "#     sentence = ','.join(a) + ',\\n' + b.lstrip().capitalize()\n",
    "#     print(a)\n",
    "#     return sentence\n",
    "# con_comma(might_be_long)\n",
    "# shorter = con_comma(might_be_long)\n",
    "# for line in shorter.split('\\n'):\n",
    "#     if len(line.split(' ')) > 12:\n",
    "#         if ',' in line:\n",
    "#             *a, b = line.split(',', line.count(',') // 2 + 1)\n",
    "#             line = ','.join(a) + ',\\n' + b.lstrip().capitalize()\n",
    "#             # line = con_comma(line)\n",
    "#             print(line)\n",
    "\n",
    "# def new_line(sentence):\n",
    "#     c, d = re.split('\\n', sentence)\n",
    "\n",
    "\n",
    "# def comma_chameleon(sentence):\n",
    "#     *a, b = sentence.split(' ', sentence.count(' ') // 2 + 1)\n",
    "#     sentence = ' '.join(a) + ',\\n' + b.lstrip().capitalize()\n",
    "#     return sentence\n",
    "# print(comma_chameleon(str(shorter)))"
   ]
  }
 ],
 "metadata": {
  "kernelspec": {
   "display_name": "Python 3.7.13 ('venv': venv)",
   "language": "python",
   "name": "python3"
  },
  "language_info": {
   "codemirror_mode": {
    "name": "ipython",
    "version": 3
   },
   "file_extension": ".py",
   "mimetype": "text/x-python",
   "name": "python",
   "nbconvert_exporter": "python",
   "pygments_lexer": "ipython3",
   "version": "3.7.13"
  },
  "orig_nbformat": 4,
  "vscode": {
   "interpreter": {
    "hash": "4d415629578ab31ae194d9b03ba0f4bbf888c1f5b85b5b09dc8ec40167408b3b"
   }
  }
 },
 "nbformat": 4,
 "nbformat_minor": 2
}
