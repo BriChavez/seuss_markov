{
 "cells": [
  {
   "cell_type": "markdown",
   "metadata": {},
   "source": []
  },
  {
   "cell_type": "code",
   "execution_count": 11,
   "metadata": {},
   "outputs": [
    {
     "name": "stdout",
     "output_type": "stream",
     "text": [
      "[,',T,h,e,y, ,d,e,c,i,d,e,d, ,t,h,a,t, ,t,h,i,n,g, ,c,a,n, ,h,o,p, ,u,p, ,a,n,y, ,n,o,t, ,l,i,k,e, ,t,h,e,m, ,i,n, ,t,h,a,t, ,c,a,s,e,',,, ,', ,o,n, ,t,h,e, ,s,n,e,e,t,c,h,e,s, ,a,n,d, ,a, ,b,u,s, ,t,o, ,c,o,m,e, ,d,o,w,n, ,s,l,u,p,p,s, ,t,h,e, ,t,o,p, ,o,f, ,p,e,a,r,l,s,',],\n",
      "What some are tall, blue fish said the street.\n"
     ]
    }
   ],
   "source": [
    "sentence = \"They decided that thing can hop up any not like them in that case, on the sneetches and a bus to come down slupps the top of pearls, what some are tall, blue fish said the street.\"\n",
    "\n",
    "\n",
    "\n",
    "*a, b = sentence.split(',', sentence.count(',') // 2 + 1)\n",
    "sentence = ','.join(a) + ',\\n' + b.lstrip().capitalize()\n",
    "\n",
    "print(sentence)\n",
    "\n",
    "\n",
    "\n",
    "\n"
   ]
  },
  {
   "cell_type": "code",
   "execution_count": 10,
   "metadata": {},
   "outputs": [
    {
     "name": "stdout",
     "output_type": "stream",
     "text": [
      "[]\n"
     ]
    }
   ],
   "source": [
    "sentence = a\n",
    "sentence = str(sentence)\n",
    "*a, b = sentence.split(',', sentence.count(',') // 2 + 1)\n",
    "sentence = ','.join(a) + ',\\n' + b.lstrip().capitalize()\n",
    "print(a)\n"
   ]
  },
  {
   "cell_type": "code",
   "execution_count": null,
   "metadata": {},
   "outputs": [],
   "source": [
    "# if ',' not in element:\n",
    "    #         # print(element)\n",
    "    #         *c, d = element.split(' ', element.count(' ') // 2 + 1)\n",
    "    #         element = ' '.join(c) + ',\\n' + d.capitalize() + ','\n",
    "    #         # print(d)\n",
    "    #         print(element)\n"
   ]
  },
  {
   "cell_type": "code",
   "execution_count": 186,
   "metadata": {},
   "outputs": [
    {
     "name": "stdout",
     "output_type": "stream",
     "text": [
      "\n",
      " He should not one, nothing at one,\n",
      "And i will top of some milk,\n",
      "\n",
      " Yes, sam i tell you win on the machines they yelp for,\n",
      "You like them with a game that is fun to pay me,\n"
     ]
    }
   ],
   "source": [
    "import re\n",
    "from collections import Counter\n",
    "\n",
    "file = open('saved_seuss/seuss3.txt').read()\n",
    "for sentence in file.split('.'):\n",
    "    # print(sentence)\n",
    "    if len(sentence.split(' ')) > 12:\n",
    "        # print(sentence)\n",
    "        *a, b = sentence.split(',', sentence.count(',') // 2 + 1)\n",
    "        \n",
    "\n",
    "        if len(a) > 1:\n",
    "            for element in a:\n",
    "                # print(element)\n",
    "                element = element\n",
    "                f = element.count(' ')\n",
    "                if f < 5:\n",
    "                    h = ','.join(a)\n",
    "                    if h.count(' ') > 10:\n",
    "                        *c, d = h.split(' ', h.count(' ') // 2 + 1)\n",
    "                        a = ' '.join(c.lstrip()) + ',\\n' + d.lstrip().capitalize() + ','\n",
    "                        print(a)\n",
    "                # else:\n",
    "                    # *c, d = element.split(' ', element.count(' ') // 2 + 1)\n",
    "                    # element = ' '.join(c) + ',\\n' + d.lstrip().capitalize() + ','\n",
    "\n",
    "                    # print(element)\n",
    "        # a = ','.join(a)\n",
    "        # print(a)   \n",
    "        # dont do this with b, bri\n",
    "        # following a, remember it is still split at commas\n",
    "        # a = ','.join(a)\n",
    "        # print(a)\n",
    "\n",
    "        # if a.count(' ') > 11:\n",
    "        #     if \",\" in a:\n",
    "        #         # print(a)\n",
    "        #         *c, d = a.split(',', a.count(',') // 2 + 1)\n",
    "        #         a = \",\".join(c) + ',\\n' + d.lstrip().capitalize()\n",
    "        #         # print(a)\n",
    "        #     else:\n",
    "        #         *c, d = a.split(' ', a.count(' ') // 2 + 1)\n",
    "        #         a = ' '.join(c) + ',\\n' + d.capitalize() + ','\n",
    "                # print(a)\n"
   ]
  },
  {
   "cell_type": "code",
   "execution_count": 86,
   "metadata": {},
   "outputs": [
    {
     "name": "stdout",
     "output_type": "stream",
     "text": [
      "Nitch.\n",
      " They come back with great speedy speed.\n",
      " I will will you, with greed.\n",
      " And you go or there, you have come back black.\n",
      " So, down the hook.\n",
      " He should not one, nothing at one and i will top of some milk, sad dad bad day.\n",
      " So bigger i got frightfully bad.\n",
      " Through my net, i am.\n",
      " Ready for, on special dank midnights in a loud whack from here to talk.\n",
      " That was who had thing two.\n",
      " All.\n",
      " As bad tricks are all frowned, his own.\n",
      " He said the fish said to escape from there are.\n",
      " Then, perhaps, indeed 98 and i'm sending them is what a house said the hat.\n",
      " Yes, sam i tell you win on the machines they yelp for you like them with a game that is fun to pay me, in a train to find us fast.\n",
      " .\n",
      " And keen, they had a boat.\n",
      " They met some are crazy with a mouse house would not like them away.\n",
      " I meant no food, down with a mouse all.\n",
      " And the fish in his throat.\n",
      " .\n",
      " .\n",
      " He me be here in the things really quite as you can't say i do you another.\n",
      " He said the air, so smeary.\n",
      " He didn't show to say.\n",
      " See.\n",
      " Waiting.\n",
      " Eat them, white and in the other brother.\n",
      " .\n",
      " Or waiting around for fun, well.\n",
      " Some pipes when you may, the fan as you please.\n",
      " The cat in the ones who soar to be best sneetches had smallish bees up the cat.\n",
      " They never.\n",
      "\n"
     ]
    }
   ],
   "source": [
    "# import re\n",
    "# sentence = open('saved_seuss/seuss3.txt').read()\n",
    "\n",
    "# sentence = \"They decided that thing can, hop, up any not like them in that case, on the sneetches and a bus to come down slupps the top of pearls, what some are tall, blue fish said the street.\"\n",
    "# # def too_long(sentence):\n",
    "    if len(sentence.split(' ')) > 12:\n",
    "        *a, b = sentence.split(',', sentence.count(',') // 2 + 1)\n",
    "        # print(a)\n",
    "\n",
    "        # dont do this with b, bri\n",
    "        # following a, remember it is still split at commas\n",
    "        a = ','.join(a)\n",
    "        # print(a)\n",
    "        if a.count(' ') > 11:\n",
    "            if \",\" in a:\n",
    "                *c, d = a.split(',', a.count(',') // 2 + 1)\n",
    "                a = \",\".join(c) + ',\\n' + d.lstrip().capitalize()\n",
    "                # print(a)\n",
    "            else:\n",
    "                *c, d = a.split(' ', a.count(' ') // 2 + 1)\n",
    "                a = ' '.join(c) + ',\\n' + d.capitalize() + ','\n",
    "                # print(a)\n",
    "\n",
    "            # print(d)\n",
    "    #     print(element)\n",
    "        # if anyone of the comma groups have more than qo words\n",
    "        # this is counting the number of spaces between the words. unnecessary, yes. fun, also yes. \n",
    "        # if element.count(' ') > 11:\n",
    "        #     element = element.lstrip().capitalize()\n",
    "        #     # print(element)\n",
    "        #     if ',' not in element:\n",
    "        #         # print(element)\n",
    "        #         *c, d = element.split(' ', element.count(' ') // 2 + 1)\n",
    "        #         element = ' '.join(c) + ',\\n' + d.capitalize() + ','\n",
    "        #         # print(d)\n",
    "        #         print(element)\n",
    "        #     else: \n",
    "        #         *a, b = element.split(',', element.count(',') // 2 + 1)\n",
    "        #         element = ','.join(c) + ',\\n' + d.capitalize()\n",
    "#           \n",
    "#             #     *a, b = element.split(' ', element.count(' ') // 2 + 1)\n",
    "#                 print(\"bye\")\n",
    "                # sentence = ' '.join(a) + ',\\n' + b.lstrip().capitalize()\n",
    "#     sentence = ','.join(a) + ',\\n' + b.lstrip().capitalize()\n",
    "#     print(a)\n",
    "#     return sentence\n",
    "# con_comma(might_be_long)\n",
    "# shorter = con_comma(might_be_long)\n",
    "# for line in shorter.split('\\n'):\n",
    "#     if len(line.split(' ')) > 12:\n",
    "#         if ',' in line:\n",
    "#             *a, b = line.split(',', line.count(',') // 2 + 1)\n",
    "#             line = ','.join(a) + ',\\n' + b.lstrip().capitalize()\n",
    "#             # line = con_comma(line)\n",
    "#             print(line)\n",
    "\n",
    "# def new_line(sentence):\n",
    "#     c, d = re.split('\\n', sentence)\n",
    "\n",
    "\n",
    "# def comma_chameleon(sentence):\n",
    "#     *a, b = sentence.split(' ', sentence.count(' ') // 2 + 1)\n",
    "#     sentence = ' '.join(a) + ',\\n' + b.lstrip().capitalize()\n",
    "#     return sentence\n",
    "# print(comma_chameleon(str(shorter)))"
   ]
  }
 ],
 "metadata": {
  "kernelspec": {
   "display_name": "Python 3.7.13 ('venv': venv)",
   "language": "python",
   "name": "python3"
  },
  "language_info": {
   "codemirror_mode": {
    "name": "ipython",
    "version": 3
   },
   "file_extension": ".py",
   "mimetype": "text/x-python",
   "name": "python",
   "nbconvert_exporter": "python",
   "pygments_lexer": "ipython3",
   "version": "3.7.13"
  },
  "orig_nbformat": 4,
  "vscode": {
   "interpreter": {
    "hash": "4d415629578ab31ae194d9b03ba0f4bbf888c1f5b85b5b09dc8ec40167408b3b"
   }
  }
 },
 "nbformat": 4,
 "nbformat_minor": 2
}
