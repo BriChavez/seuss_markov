{
 "cells": [
  {
   "cell_type": "code",
   "execution_count": 42,
   "metadata": {},
   "outputs": [
    {
     "name": "stdout",
     "output_type": "stream",
     "text": [
      "They decided that thing can hop up any not like them in that case, on the sneetches and a bus to come down slupps the top of pearls,\n",
      "\n",
      "What some are tall,\n",
      "Blue fish said the street.\n"
     ]
    }
   ],
   "source": [
    "import re\n",
    "might_be_long = \"They decided that thing can hop up any not like them in that case, on the sneetches and a bus to come down slupps the top of pearls, what some are tall, blue fish said the street.\"\n",
    "# def too_long(sentence):\n",
    "def con_comma(sentence):\n",
    "    *a, b = sentence.split(',', sentence.count(',') // 2 + 1)\n",
    "    sentence = ','.join(a) + ',\\n' + b.lstrip().capitalize()\n",
    "    # print(sentence)\n",
    "    return sentence\n",
    "con_comma(might_be_long)\n",
    "shorter = con_comma(might_be_long)\n",
    "for line in shorter.splitlines():\n",
    "    # if len(line.split(' ')) > 12:\n",
    "    print(con_comma(line))\n",
    "\n",
    "# def new_line(sentence):\n",
    "#     c, d = re.split('\\n', sentence)\n",
    "\n",
    "\n",
    "# def comma_chameleon(sentence):\n",
    "#     *a, b = sentence.split(' ', sentence.count(' ') // 2 + 1)\n",
    "#     sentence = ' '.join(a) + ',\\n' + b.lstrip().capitalize()\n",
    "#     return sentence\n",
    "# print(comma_chameleon(str(shorter)))"
   ]
  }
 ],
 "metadata": {
  "kernelspec": {
   "display_name": "Python 3.7.13 ('venv': venv)",
   "language": "python",
   "name": "python3"
  },
  "language_info": {
   "codemirror_mode": {
    "name": "ipython",
    "version": 3
   },
   "file_extension": ".py",
   "mimetype": "text/x-python",
   "name": "python",
   "nbconvert_exporter": "python",
   "pygments_lexer": "ipython3",
   "version": "3.7.13"
  },
  "orig_nbformat": 4,
  "vscode": {
   "interpreter": {
    "hash": "4d415629578ab31ae194d9b03ba0f4bbf888c1f5b85b5b09dc8ec40167408b3b"
   }
  }
 },
 "nbformat": 4,
 "nbformat_minor": 2
}
