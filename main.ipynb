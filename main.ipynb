{
 "cells": [
  {
   "cell_type": "code",
   "execution_count": 1,
   "metadata": {},
   "outputs": [],
   "source": [
    "import re\n",
    "import string\n",
    "from numpy.random import choice\n",
    "import random\n",
    "\n",
    "\"\"\"READ FILE IN TO PLAY\"\"\"\n",
    "\n",
    "with open('extra.txt', 'r') as seuss_script:\n",
    "    # open txt file and read to string, string to lower\n",
    "    seussical = seuss_script.read()\n",
    "    seussical = seussical.lower()\n",
    "\n",
    "# use regex to split text into words and punctuation, including contracted words\n",
    "seuss_string = re.findall(r\"[.,]|[a-z]+[']?[a-z]+\", seussical)\n",
    "\n",
    "\"\"\"CREATE OUR NESTED DICT TO SAVE HOW OFTEN ONE WORD FOLLOWS ANOTHER\"\"\"\n",
    "\n",
    "seuss_dict = {}\n",
    "# for loop that runs over every word in our string, but stating to stop at the last word\n",
    "for i, word in enumerate(seuss_string[:-1]):\n",
    "    # setting this word to be the word right after the one we were on\n",
    "    this_word = seuss_string[i - 1]\n",
    "    # if this_word isnt in our dictionary already...\n",
    "    if this_word not in seuss_dict:\n",
    "        # start our counter dict\n",
    "        next_count = {}\n",
    "        # add our new word to be a key in our seuss dict and the count dict to be its value\n",
    "        seuss_dict[this_word] = next_count\n",
    "    # if it is already in there....\n",
    "    else:\n",
    "        # create empty dictionary with this_word as the key and next_count as the value\n",
    "        next_count = seuss_dict[this_word]\n",
    "    # if the next word(word) is in our nested dict already...\n",
    "    if word in next_count:\n",
    "        # add one to its count\n",
    "        next_count[word] += 1\n",
    "    # if its not already in there\n",
    "    else:\n",
    "        # lets add it and set its count to 1\n",
    "        next_count[word] = 1"
   ]
  },
  {
   "cell_type": "code",
   "execution_count": 65,
   "metadata": {},
   "outputs": [
    {
     "name": "stdout",
     "output_type": "stream",
     "text": [
      "{'.': {'one': 1, 'this': 2, 'say': 1, 'yes': 1, 'some': 10, 'why': 1, 'the': 1, 'from': 1, 'here': 1, 'they': 1, 'oh': 1, 'where': 1, 'but': 1, 'we': 1, 'not': 1, \"don't\": 1}, 'one': {'fish': 1, 'has': 3, 'of': 1}, 'fish': {',': 7, '.': 1, 'there': 1}, ',': {'two': 1, 'red': 1, 'blue': 2, 'black': 1, 'old': 1, 'new': 1, 'and': 4, 'very': 1, 'go': 2, 'from': 1, 'funny': 1, 'hot': 1, 'long': 1, 'we': 1}, 'two': {'fish': 1, 'feet': 1}, 'red': {'fish': 1, ',': 1}, 'blue': {'fish': 2, '.': 1}, 'black': {'fish': 1}, 'old': {'fish': 1, 'and': 1}, 'new': {'fish': 1, '.': 1}, 'this': {'one': 2}, 'has': {'littlecar': 1, 'little': 1, 'yellow': 1}, 'littlecar': {'.': 1}, 'little': {'star': 1}, 'star': {'.': 1}, 'say': {'what': 1, '.': 1}, 'what': {'lot': 2}, 'lot': {'of': 2}, 'of': {'fish': 1, 'funny': 1, 'them': 1}, 'there': {'are': 1, 'to': 1, ',': 1}, 'are': {'.': 1, 'red': 1, 'blue': 1, 'old': 1, 'new': 1, 'sad': 1, 'glad': 1, 'very': 1, 'they': 1, 'thin': 1, 'fat': 1, 'everywhere': 1, 'some': 1, 'fast': 1, 'slow': 1, 'high': 1, 'low': 1}, 'yes': {'.': 1}, 'some': {'are': 13, 'who': 1, 'have': 4}, 'and': {'some': 7, 'glad': 1, 'bad': 1}, 'sad': {',': 1, 'and': 1}, 'glad': {',': 1, 'and': 1}, 'very': {',': 1, 'bad': 1}, 'bad': {'.': 1, 'do': 1}, 'why': {'are': 1, ',': 1}, 'they': {'sad': 1, 'run': 1, 'come': 1, 'have': 1}, 'do': {'not': 1, 'they': 1}, 'not': {'know': 1, 'one': 1}, 'know': {',': 1}, 'go': {'ask': 2, 'by': 1, '.': 1}, 'ask': {'your': 2, 'us': 1}, 'your': {'dad': 1, 'mother': 1}, 'dad': {'.': 1}, 'thin': {',': 1}, 'fat': {'.': 1, 'one': 1}, 'the': {'fat': 1, 'hot': 1}, 'yellow': {'hat': 1}, 'hat': {'.': 1}, 'from': {'there': 1, 'here': 1, \"can't\": 1}, 'to': {'here': 1, 'there': 1, 'run': 1}, 'here': {',': 1, 'to': 1, 'are': 1}, 'funny': {'things': 2}, 'things': {'are': 1, 'go': 1}, 'everywhere': {'.': 1}, 'who': {'like': 1}, 'like': {'to': 1, 'another': 1}, 'run': {'.': 1, 'for': 1}, 'for': {'fun': 1}, 'fun': {'in': 1}, 'in': {'the': 1}, 'hot': {',': 1, 'sun': 1}, 'sun': {'.': 1}, 'oh': {'me': 2, 'my': 2}, 'me': {'oh': 2}, 'my': {'oh': 1, 'what': 1}, 'by': {'.': 1}, 'have': {'two': 1, 'four': 1, 'six': 1, 'more': 1, 'come': 1}, 'feet': {'and': 2}, 'four': {'.': 1}, 'six': {'feet': 1}, 'more': {'.': 1}, 'where': {'do': 1}, 'come': {'from': 1, 'long': 1, ',': 1}, \"can't\": {'say': 1}, 'but': {'bet': 1}, 'bet': {'they': 1}, 'long': {',': 1, 'way': 1}, 'way': {'.': 1}, 'we': {'see': 2}, 'see': {'them': 2}, 'them': {'come': 1, 'go': 1, 'is': 1}, 'fast': {'.': 1}, 'slow': {'.': 1}, 'high': {'.': 1}, 'low': {'.': 1}, 'is': {'like': 1}, 'another': {'.': 1}, \"don't\": {'ask': 1}, 'us': {'why': 1}}\n"
     ]
    }
   ],
   "source": [
    "d = {}\n",
    "for k, v in seuss_dict.items():\n",
    "    d.update({k: v})\n",
    "    # for key, value in v.items():\n",
    "print(d)"
   ]
  },
  {
   "cell_type": "code",
   "execution_count": null,
   "metadata": {},
   "outputs": [],
   "source": [
    "import matplotlib.pyplot as plt\n",
    "import pandas as pd\n",
    "import json\n",
    "\n",
    "# df = pd.DataFrame(seuss_dict)\n",
    "# df.fillna(0, inplace=True)\n",
    "# print(df)\n",
    "\n",
    "\n",
    "d = {}\n",
    "for k, v in seuss_dict.items():\n",
    "\n",
    "    \n",
    "# print(d)\n",
    "\n",
    "    row_tups = []\n",
    "    for key, value in v.items():\n",
    "        row_tups.append((key, value))\n",
    "    row_tups.sort(key=lambda tup: tup[1], reverse=True)\n",
    "    # print(row_tups)\n",
    "    d.update({k: row_tups})\n",
    "print(d)\n",
    "# d = d.T\n",
    "# df = pd.DataFrame.from_dict(d,orient=\"index\")\n",
    "\n",
    "# df.to_csv(\"fish_table.csv\", index=False)\n",
    "    \n"
   ]
  },
  {
   "cell_type": "code",
   "execution_count": 61,
   "metadata": {},
   "outputs": [
    {
     "name": "stdout",
     "output_type": "stream",
     "text": [
      "['.', '.', '.', '.', '.', '.', '.', '.', '.', '.', '.', '.', '.', '.', '.', '.', 'one', 'one', 'one', 'fish', 'fish', 'fish', ',', ',', ',', ',', ',', ',', ',', ',', ',', ',', ',', ',', ',', ',', 'two', 'two', 'red', 'red', 'blue', 'blue', 'black', 'old', 'old', 'new', 'new', 'this', 'has', 'has', 'has', 'littlecar', 'little', 'star', 'say', 'say', 'what', 'lot', 'of', 'of', 'of', 'there', 'there', 'there', 'are', 'are', 'are', 'are', 'are', 'are', 'are', 'are', 'are', 'are', 'are', 'are', 'are', 'are', 'are', 'are', 'are', 'yes', 'some', 'some', 'some', 'and', 'and', 'and', 'sad', 'sad', 'glad', 'glad', 'very', 'very', 'bad', 'bad', 'why', 'why', 'they', 'they', 'they', 'they', 'do', 'do', 'not', 'not', 'know', 'go', 'go', 'go', 'ask', 'ask', 'your', 'your', 'dad', 'thin', 'fat', 'fat', 'the', 'the', 'yellow', 'hat', 'from', 'from', 'from', 'to', 'to', 'to', 'here', 'here', 'here', 'funny', 'things', 'things', 'everywhere', 'who', 'like', 'like', 'run', 'run', 'for', 'fun', 'in', 'hot', 'hot', 'sun', 'oh', 'oh', 'me', 'my', 'my', 'by', 'have', 'have', 'have', 'have', 'have', 'feet', 'four', 'six', 'more', 'where', 'come', 'come', 'come', \"can't\", 'but', 'bet', 'long', 'long', 'way', 'we', 'see', 'them', 'them', 'them', 'fast', 'slow', 'high', 'low', 'is', 'another', \"don't\", 'us']\n"
     ]
    }
   ],
   "source": [
    "import itertools\n",
    "import matplotlib.pyplot as plt\n",
    "\n",
    "\n",
    "\n",
    "\n",
    "# Flatten keys list\n",
    "\n",
    "# Produces y = ['4026', '4024', '1940', '2912', '2916, '3139', '2464',...]\n",
    "# y = [val for subl in d.values() for val in subl]\n",
    "\n",
    "# ax.plot(x, y, 'ro')\n",
    "# plt.show()\n"
   ]
  }
 ],
 "metadata": {
  "kernelspec": {
   "display_name": "Python 3.7.13 ('venv': venv)",
   "language": "python",
   "name": "python3"
  },
  "language_info": {
   "codemirror_mode": {
    "name": "ipython",
    "version": 3
   },
   "file_extension": ".py",
   "mimetype": "text/x-python",
   "name": "python",
   "nbconvert_exporter": "python",
   "pygments_lexer": "ipython3",
   "version": "3.7.14"
  },
  "orig_nbformat": 4,
  "vscode": {
   "interpreter": {
    "hash": "f0117254bacca0ddfe1506da03adb04c307ae7f0751fb71d32627ce8e87c1cc4"
   }
  }
 },
 "nbformat": 4,
 "nbformat_minor": 2
}
