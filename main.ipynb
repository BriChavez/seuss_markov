{
 "cells": [
  {
   "cell_type": "code",
   "execution_count": 1,
   "metadata": {},
   "outputs": [],
   "source": [
    "import re\n",
    "import string\n",
    "from numpy.random import choice\n",
    "import random\n",
    "\n",
    "\"\"\"READ FILE IN TO PLAY\"\"\"\n",
    "\n",
    "with open('extra.txt', 'r') as seuss_script:\n",
    "    # open txt file and read to string, string to lower\n",
    "    seussical = seuss_script.read()\n",
    "    seussical = seussical.lower()\n",
    "\n",
    "# use regex to split text into words and punctuation, including contracted words\n",
    "seuss_string = re.findall(r\"[.,]|[a-z]+[']?[a-z]+\", seussical)\n",
    "\n",
    "\"\"\"CREATE OUR NESTED DICT TO SAVE HOW OFTEN ONE WORD FOLLOWS ANOTHER\"\"\"\n",
    "\n",
    "seuss_dict = {}\n",
    "# for loop that runs over every word in our string, but stating to stop at the last word\n",
    "for i, word in enumerate(seuss_string[:-1]):\n",
    "    # setting this word to be the word right after the one we were on\n",
    "    this_word = seuss_string[i - 1]\n",
    "    # if this_word isnt in our dictionary already...\n",
    "    if this_word not in seuss_dict:\n",
    "        # start our counter dict\n",
    "        next_count = {}\n",
    "        # add our new word to be a key in our seuss dict and the count dict to be its value\n",
    "        seuss_dict[this_word] = next_count\n",
    "    # if it is already in there....\n",
    "    else:\n",
    "        # create empty dictionary with this_word as the key and next_count as the value\n",
    "        next_count = seuss_dict[this_word]\n",
    "    # if the next word(word) is in our nested dict already...\n",
    "    if word in next_count:\n",
    "        # add one to its count\n",
    "        next_count[word] += 1\n",
    "    # if its not already in there\n",
    "    else:\n",
    "        # lets add it and set its count to 1\n",
    "        next_count[word] = 1"
   ]
  },
  {
   "cell_type": "code",
   "execution_count": 102,
   "metadata": {},
   "outputs": [
    {
     "data": {
      "image/png": "[encoded data removed]",
      "text/plain": [
       "<Figure size 640x480 with 1 Axes>"
      ]
     },
     "metadata": {},
     "output_type": "display_data"
    }
   ],
   "source": [
    "import seaborn as sns\n",
    "import numpy as np\n",
    "\n",
    "import pandas as pd\n",
    "import matplotlib.pyplot as plt\n",
    "\n",
    "x = []\n",
    "y = [i for i in range(11)]\n",
    "\n",
    "# z = []\n",
    "\n",
    "for k, v in seuss_dict.items():\n",
    "    x = v\n",
    "    for key, value in v.items():\n",
    "        plt.plot(key, value, label = k)\n",
    "        # print(value)"
   ]
  },
  {
   "cell_type": "code",
   "execution_count": null,
   "metadata": {},
   "outputs": [],
   "source": [
    "import matplotlib.pyplot as plt\n",
    "import pandas as pd\n",
    "import json\n",
    "\n",
    "# df = pd.DataFrame(seuss_dict)\n",
    "# df.fillna(0, inplace=True)\n",
    "# print(df)\n",
    "\n",
    "d = {}\n",
    "for k, v in seuss_dict.items():\n",
    "    d.update({k: v})\n",
    "    # for k, value in v.items():\n",
    "# print(d)\n",
    "\n",
    "\n",
    "# df = pd.DataFrame.from_dict(d,orient=\"index\").T\n",
    "\n",
    "\n",
    "# plt.figure(figsize=(15, 5))\n",
    "# xlabels = list(d.keys())\n",
    "\n",
    "# for i, k in d.items():\n",
    "#     for key, value in k.items():\n",
    "\n",
    "#         plt.scatter([i]*len(d), d[k], c=\"#396B8B\")\n",
    "\n",
    "# plt.xticks(list(range(1, len(xlabels)+1)), xlabels, rotation='horizontal')\n",
    "# plt.grid(axis=\"y\")\n",
    "# plt.title(\"Molecular Weight by Sequence ID\")\n",
    "# plt.ylabel(\"Molecular Weight\")\n",
    "# plt.show()\n",
    "d = {}\n",
    "for k, v in seuss_dict.items():\n",
    "\n",
    "    \n",
    "# print(d)\n",
    "\n",
    "    row_tups = []\n",
    "    for key, value in v.items():\n",
    "        row_tups.append((key, value))\n",
    "    row_tups.sort(key=lambda tup: tup[1], reverse=True)\n",
    "    # print(row_tups)\n",
    "    d.update({k: row_tups})\n",
    "print(d)\n",
    "# d = d.T\n",
    "# df = pd.DataFrame.from_dict(d,orient=\"index\")\n",
    "\n",
    "# df.to_csv(\"fish_table.csv\", index=False)\n",
    "    \n"
   ]
  },
  {
   "cell_type": "code",
   "execution_count": 61,
   "metadata": {},
   "outputs": [
    {
     "name": "stdout",
     "output_type": "stream",
     "text": [
      "['.', '.', '.', '.', '.', '.', '.', '.', '.', '.', '.', '.', '.', '.', '.', '.', 'one', 'one', 'one', 'fish', 'fish', 'fish', ',', ',', ',', ',', ',', ',', ',', ',', ',', ',', ',', ',', ',', ',', 'two', 'two', 'red', 'red', 'blue', 'blue', 'black', 'old', 'old', 'new', 'new', 'this', 'has', 'has', 'has', 'littlecar', 'little', 'star', 'say', 'say', 'what', 'lot', 'of', 'of', 'of', 'there', 'there', 'there', 'are', 'are', 'are', 'are', 'are', 'are', 'are', 'are', 'are', 'are', 'are', 'are', 'are', 'are', 'are', 'are', 'are', 'yes', 'some', 'some', 'some', 'and', 'and', 'and', 'sad', 'sad', 'glad', 'glad', 'very', 'very', 'bad', 'bad', 'why', 'why', 'they', 'they', 'they', 'they', 'do', 'do', 'not', 'not', 'know', 'go', 'go', 'go', 'ask', 'ask', 'your', 'your', 'dad', 'thin', 'fat', 'fat', 'the', 'the', 'yellow', 'hat', 'from', 'from', 'from', 'to', 'to', 'to', 'here', 'here', 'here', 'funny', 'things', 'things', 'everywhere', 'who', 'like', 'like', 'run', 'run', 'for', 'fun', 'in', 'hot', 'hot', 'sun', 'oh', 'oh', 'me', 'my', 'my', 'by', 'have', 'have', 'have', 'have', 'have', 'feet', 'four', 'six', 'more', 'where', 'come', 'come', 'come', \"can't\", 'but', 'bet', 'long', 'long', 'way', 'we', 'see', 'them', 'them', 'them', 'fast', 'slow', 'high', 'low', 'is', 'another', \"don't\", 'us']\n"
     ]
    }
   ],
   "source": [
    "import itertools\n",
    "import matplotlib.pyplot as plt\n",
    "\n",
    "\n",
    "\n",
    "\n",
    "# Flatten keys list\n",
    "\n",
    "# Produces y = ['4026', '4024', '1940', '2912', '2916, '3139', '2464',...]\n",
    "# y = [val for subl in d.values() for val in subl]\n",
    "\n",
    "# ax.plot(x, y, 'ro')\n",
    "# plt.show()\n"
   ]
  }
 ],
 "metadata": {
  "kernelspec": {
   "display_name": "Python 3.7.13 ('venv': venv)",
   "language": "python",
   "name": "python3"
  },
  "language_info": {
   "codemirror_mode": {
    "name": "ipython",
    "version": 3
   },
   "file_extension": ".py",
   "mimetype": "text/x-python",
   "name": "python",
   "nbconvert_exporter": "python",
   "pygments_lexer": "ipython3",
   "version": "3.7.14"
  },
  "orig_nbformat": 4,
  "vscode": {
   "interpreter": {
    "hash": "f0117254bacca0ddfe1506da03adb04c307ae7f0751fb71d32627ce8e87c1cc4"
   }
  }
 },
 "nbformat": 4,
 "nbformat_minor": 2
}
